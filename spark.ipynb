{
 "cells": [
  {
   "cell_type": "markdown",
   "metadata": {},
   "source": [
    "# Example Machine Learning Using Spark\n",
    "\n",
    "Big Data, 9/8/16"
   ]
  },
  {
   "cell_type": "code",
   "execution_count": 1,
   "metadata": {
    "collapsed": true
   },
   "outputs": [],
   "source": [
    "from pyspark.sql import SQLContext\n",
    "sqlContext = SQLContext(sc)"
   ]
  },
  {
   "cell_type": "code",
   "execution_count": 2,
   "metadata": {
    "collapsed": true
   },
   "outputs": [],
   "source": [
    "train = sqlContext.read.format('com.databricks.spark.csv').options(header='true', inferschema='true').load('train.csv')\n",
    "test = sqlContext.read.format('com.databricks.spark.csv').options(header='true', inferschema='true').load('test.csv')"
   ]
  },
  {
   "cell_type": "code",
   "execution_count": 3,
   "metadata": {
    "collapsed": false
   },
   "outputs": [
    {
     "name": "stdout",
     "output_type": "stream",
     "text": [
      "root\n",
      " |-- User_ID: integer (nullable = true)\n",
      " |-- Product_ID: string (nullable = true)\n",
      " |-- Gender: string (nullable = true)\n",
      " |-- Age: string (nullable = true)\n",
      " |-- Occupation: integer (nullable = true)\n",
      " |-- City_Category: string (nullable = true)\n",
      " |-- Stay_In_Current_City_Years: string (nullable = true)\n",
      " |-- Marital_Status: integer (nullable = true)\n",
      " |-- Product_Category_1: integer (nullable = true)\n",
      " |-- Product_Category_2: integer (nullable = true)\n",
      " |-- Product_Category_3: integer (nullable = true)\n",
      " |-- Purchase: integer (nullable = true)\n",
      "\n"
     ]
    }
   ],
   "source": [
    "# Ananlyze Data\n",
    "\n",
    "train.printSchema()"
   ]
  },
  {
   "cell_type": "code",
   "execution_count": 4,
   "metadata": {
    "collapsed": false
   },
   "outputs": [
    {
     "data": {
      "text/plain": [
       "[Row(User_ID=1000001, Product_ID='P00069042', Gender='F', Age='0-17', Occupation=10, City_Category='A', Stay_In_Current_City_Years='2', Marital_Status=0, Product_Category_1=3, Product_Category_2=None, Product_Category_3=None, Purchase=8370),\n",
       " Row(User_ID=1000001, Product_ID='P00248942', Gender='F', Age='0-17', Occupation=10, City_Category='A', Stay_In_Current_City_Years='2', Marital_Status=0, Product_Category_1=1, Product_Category_2=6, Product_Category_3=14, Purchase=15200),\n",
       " Row(User_ID=1000001, Product_ID='P00087842', Gender='F', Age='0-17', Occupation=10, City_Category='A', Stay_In_Current_City_Years='2', Marital_Status=0, Product_Category_1=12, Product_Category_2=None, Product_Category_3=None, Purchase=1422),\n",
       " Row(User_ID=1000001, Product_ID='P00085442', Gender='F', Age='0-17', Occupation=10, City_Category='A', Stay_In_Current_City_Years='2', Marital_Status=0, Product_Category_1=12, Product_Category_2=14, Product_Category_3=None, Purchase=1057),\n",
       " Row(User_ID=1000002, Product_ID='P00285442', Gender='M', Age='55+', Occupation=16, City_Category='C', Stay_In_Current_City_Years='4+', Marital_Status=0, Product_Category_1=8, Product_Category_2=None, Product_Category_3=None, Purchase=7969),\n",
       " Row(User_ID=1000003, Product_ID='P00193542', Gender='M', Age='26-35', Occupation=15, City_Category='A', Stay_In_Current_City_Years='3', Marital_Status=0, Product_Category_1=1, Product_Category_2=2, Product_Category_3=None, Purchase=15227),\n",
       " Row(User_ID=1000004, Product_ID='P00184942', Gender='M', Age='46-50', Occupation=7, City_Category='B', Stay_In_Current_City_Years='2', Marital_Status=1, Product_Category_1=1, Product_Category_2=8, Product_Category_3=17, Purchase=19215),\n",
       " Row(User_ID=1000004, Product_ID='P00346142', Gender='M', Age='46-50', Occupation=7, City_Category='B', Stay_In_Current_City_Years='2', Marital_Status=1, Product_Category_1=1, Product_Category_2=15, Product_Category_3=None, Purchase=15854),\n",
       " Row(User_ID=1000004, Product_ID='P0097242', Gender='M', Age='46-50', Occupation=7, City_Category='B', Stay_In_Current_City_Years='2', Marital_Status=1, Product_Category_1=1, Product_Category_2=16, Product_Category_3=None, Purchase=15686),\n",
       " Row(User_ID=1000005, Product_ID='P00274942', Gender='M', Age='26-35', Occupation=20, City_Category='A', Stay_In_Current_City_Years='1', Marital_Status=1, Product_Category_1=8, Product_Category_2=None, Product_Category_3=None, Purchase=7871)]"
      ]
     },
     "execution_count": 4,
     "metadata": {},
     "output_type": "execute_result"
    }
   ],
   "source": [
    "train.head(10)"
   ]
  },
  {
   "cell_type": "code",
   "execution_count": 5,
   "metadata": {
    "collapsed": false
   },
   "outputs": [
    {
     "data": {
      "text/plain": [
       "550068"
      ]
     },
     "execution_count": 5,
     "metadata": {},
     "output_type": "execute_result"
    }
   ],
   "source": [
    "train.count()"
   ]
  },
  {
   "cell_type": "code",
   "execution_count": 6,
   "metadata": {
    "collapsed": false
   },
   "outputs": [
    {
     "data": {
      "text/plain": [
       "(166821, 71037)"
      ]
     },
     "execution_count": 6,
     "metadata": {},
     "output_type": "execute_result"
    }
   ],
   "source": [
    "# Impute Missing Values\n",
    "\n",
    "train.na.drop().count(),test.na.drop('any').count()"
   ]
  },
  {
   "cell_type": "code",
   "execution_count": 7,
   "metadata": {
    "collapsed": true
   },
   "outputs": [],
   "source": [
    "train = train.fillna(-1)\n",
    "test = test.fillna(-1)"
   ]
  },
  {
   "cell_type": "code",
   "execution_count": 8,
   "metadata": {
    "collapsed": false
   },
   "outputs": [
    {
     "name": "stdout",
     "output_type": "stream",
     "text": [
      "+-------+------------------+-----------------+-------------------+------------------+------------------+------------------+------------------+\n",
      "|summary|           User_ID|       Occupation|     Marital_Status|Product_Category_1|Product_Category_2|Product_Category_3|          Purchase|\n",
      "+-------+------------------+-----------------+-------------------+------------------+------------------+------------------+------------------+\n",
      "|  count|            550068|           550068|             550068|            550068|            550068|            550068|            550068|\n",
      "|   mean|1003028.8424013031|8.076706879876669|0.40965298835780306| 5.404270017525106| 6.419769919355425| 3.145214773446192| 9263.968712959126|\n",
      "| stddev|1727.5915855308265|6.522660487341778| 0.4917701263173273|3.9362113692014082| 6.565109781181287| 6.681038828257762|5023.0653938206015|\n",
      "|    min|           1000001|                0|                  0|                 1|                -1|                -1|                12|\n",
      "|    max|           1006040|               20|                  1|                20|                18|                18|             23961|\n",
      "+-------+------------------+-----------------+-------------------+------------------+------------------+------------------+------------------+\n",
      "\n"
     ]
    }
   ],
   "source": [
    "# Take a look at numerical variables\n",
    "\n",
    "train.describe().show()"
   ]
  },
  {
   "cell_type": "code",
   "execution_count": 9,
   "metadata": {
    "collapsed": false
   },
   "outputs": [
    {
     "name": "stdout",
     "output_type": "stream",
     "text": [
      "+-------+\n",
      "|User_ID|\n",
      "+-------+\n",
      "|1000001|\n",
      "|1000001|\n",
      "|1000001|\n",
      "|1000001|\n",
      "|1000002|\n",
      "|1000003|\n",
      "|1000004|\n",
      "|1000004|\n",
      "|1000004|\n",
      "|1000005|\n",
      "|1000005|\n",
      "|1000005|\n",
      "|1000005|\n",
      "|1000005|\n",
      "|1000006|\n",
      "|1000006|\n",
      "|1000006|\n",
      "|1000006|\n",
      "|1000007|\n",
      "|1000008|\n",
      "+-------+\n",
      "only showing top 20 rows\n",
      "\n"
     ]
    }
   ],
   "source": [
    "# Sub Setting\n",
    "\n",
    "train.select('User_ID').show()"
   ]
  },
  {
   "cell_type": "code",
   "execution_count": 10,
   "metadata": {
    "collapsed": false
   },
   "outputs": [
    {
     "data": {
      "text/plain": [
       "(3631, 3491)"
      ]
     },
     "execution_count": 10,
     "metadata": {},
     "output_type": "execute_result"
    }
   ],
   "source": [
    "# Take a look at categorical variables\n",
    "\n",
    "train.select('Product_ID').distinct().count(), test.select('Product_ID').distinct().count()"
   ]
  },
  {
   "cell_type": "code",
   "execution_count": 11,
   "metadata": {
    "collapsed": false
   },
   "outputs": [
    {
     "data": {
      "text/plain": [
       "46"
      ]
     },
     "execution_count": 11,
     "metadata": {},
     "output_type": "execute_result"
    }
   ],
   "source": [
    "# Let's check what are the categories for Product_ID, which are in test but not in train by applying subtract method.\n",
    "\n",
    "diff_cat_in_train_test=test.select('Product_ID').subtract(train.select('Product_ID'))\n",
    "diff_cat_in_train_test.distinct().count()# For distict count"
   ]
  },
  {
   "cell_type": "code",
   "execution_count": 12,
   "metadata": {
    "collapsed": true
   },
   "outputs": [],
   "source": [
    "# String Indexerhttps://spark.apache.org/docs/latest/ml-features.html#stringindexer\n",
    "# Build labeller\n",
    "\n",
    "from pyspark.ml.feature import StringIndexer\n",
    "plan_indexer = StringIndexer(inputCol = 'Product_ID', outputCol = 'product_ID')\n",
    "labeller = plan_indexer.fit(train)"
   ]
  },
  {
   "cell_type": "code",
   "execution_count": 13,
   "metadata": {
    "collapsed": true
   },
   "outputs": [],
   "source": [
    "# Transform our train and test Dataframe with the help of labeller\n",
    "\n",
    "Train1 = labeller.transform(train)\n",
    "Test1 = labeller.transform(test)"
   ]
  },
  {
   "cell_type": "code",
   "execution_count": 14,
   "metadata": {
    "collapsed": false
   },
   "outputs": [
    {
     "name": "stdout",
     "output_type": "stream",
     "text": [
      "+-------+----------+------+-----+----------+-------------+--------------------------+--------------+------------------+------------------+------------------+--------+----------+\n",
      "|User_ID|Product_ID|Gender|  Age|Occupation|City_Category|Stay_In_Current_City_Years|Marital_Status|Product_Category_1|Product_Category_2|Product_Category_3|Purchase|product_ID|\n",
      "+-------+----------+------+-----+----------+-------------+--------------------------+--------------+------------------+------------------+------------------+--------+----------+\n",
      "|1000001| P00069042|     F| 0-17|        10|            A|                         2|             0|                 3|                -1|                -1|    8370|     766.0|\n",
      "|1000001| P00248942|     F| 0-17|        10|            A|                         2|             0|                 1|                 6|                14|   15200|     183.0|\n",
      "|1000001| P00087842|     F| 0-17|        10|            A|                         2|             0|                12|                -1|                -1|    1422|    1496.0|\n",
      "|1000001| P00085442|     F| 0-17|        10|            A|                         2|             0|                12|                14|                -1|    1057|     481.0|\n",
      "|1000002| P00285442|     M|  55+|        16|            C|                        4+|             0|                 8|                -1|                -1|    7969|     860.0|\n",
      "|1000003| P00193542|     M|26-35|        15|            A|                         3|             0|                 1|                 2|                -1|   15227|     157.0|\n",
      "|1000004| P00184942|     M|46-50|         7|            B|                         2|             1|                 1|                 8|                17|   19215|       5.0|\n",
      "|1000004| P00346142|     M|46-50|         7|            B|                         2|             1|                 1|                15|                -1|   15854|     177.0|\n",
      "|1000004|  P0097242|     M|46-50|         7|            B|                         2|             1|                 1|                16|                -1|   15686|      51.0|\n",
      "|1000005| P00274942|     M|26-35|        20|            A|                         1|             1|                 8|                -1|                -1|    7871|      78.0|\n",
      "|1000005| P00251242|     M|26-35|        20|            A|                         1|             1|                 5|                11|                -1|    5254|      27.0|\n",
      "|1000005| P00014542|     M|26-35|        20|            A|                         1|             1|                 8|                -1|                -1|    3957|     128.0|\n",
      "|1000005| P00031342|     M|26-35|        20|            A|                         1|             1|                 8|                -1|                -1|    6073|    2318.0|\n",
      "|1000005| P00145042|     M|26-35|        20|            A|                         1|             1|                 1|                 2|                 5|   15665|       9.0|\n",
      "|1000006| P00231342|     F|51-55|         9|            A|                         1|             0|                 5|                 8|                14|    5378|    1680.0|\n",
      "|1000006| P00190242|     F|51-55|         9|            A|                         1|             0|                 4|                 5|                -1|    2079|     927.0|\n",
      "|1000006|  P0096642|     F|51-55|         9|            A|                         1|             0|                 2|                 3|                 4|   13055|    1000.0|\n",
      "|1000006| P00058442|     F|51-55|         9|            A|                         1|             0|                 5|                14|                -1|    8851|     209.0|\n",
      "|1000007| P00036842|     M|36-45|         1|            B|                         1|             1|                 1|                14|                16|   11788|      58.0|\n",
      "|1000008| P00249542|     M|26-35|        12|            C|                        4+|             1|                 1|                 5|                15|   19614|      81.0|\n",
      "+-------+----------+------+-----+----------+-------------+--------------------------+--------------+------------------+------------------+------------------+--------+----------+\n",
      "only showing top 20 rows\n",
      "\n"
     ]
    }
   ],
   "source": [
    "Train1.show()"
   ]
  },
  {
   "cell_type": "code",
   "execution_count": 15,
   "metadata": {
    "collapsed": true
   },
   "outputs": [],
   "source": [
    "# Build model\n",
    "\n",
    "from pyspark.ml.feature import RFormula\n",
    "formula = RFormula(formula=\"Purchase ~ Age+ Occupation +City_Category+Stay_In_Current_City_Years+Product_Category_1+Product_Category_2+ Gender\",featuresCol=\"features\",labelCol=\"label\")"
   ]
  },
  {
   "cell_type": "code",
   "execution_count": 16,
   "metadata": {
    "collapsed": true
   },
   "outputs": [],
   "source": [
    "# Pass the data through the model\n",
    "\n",
    "t1 = formula.fit(Train1)\n",
    "train1 = t1.transform(Train1)\n",
    "test1 = t1.transform(Test1)"
   ]
  },
  {
   "cell_type": "code",
   "execution_count": 17,
   "metadata": {
    "collapsed": false
   },
   "outputs": [
    {
     "name": "stdout",
     "output_type": "stream",
     "text": [
      "+-------+----------+------+-----+----------+-------------+--------------------------+--------------+------------------+------------------+------------------+--------+----------+--------------------+-------+\n",
      "|User_ID|Product_ID|Gender|  Age|Occupation|City_Category|Stay_In_Current_City_Years|Marital_Status|Product_Category_1|Product_Category_2|Product_Category_3|Purchase|product_ID|            features|  label|\n",
      "+-------+----------+------+-----+----------+-------------+--------------------------+--------------+------------------+------------------+------------------+--------+----------+--------------------+-------+\n",
      "|1000001| P00069042|     F| 0-17|        10|            A|                         2|             0|                 3|                -1|                -1|    8370|     766.0|(16,[6,10,13,14],...| 8370.0|\n",
      "|1000001| P00248942|     F| 0-17|        10|            A|                         2|             0|                 1|                 6|                14|   15200|     183.0|(16,[6,10,13,14],...|15200.0|\n",
      "|1000001| P00087842|     F| 0-17|        10|            A|                         2|             0|                12|                -1|                -1|    1422|    1496.0|(16,[6,10,13,14],...| 1422.0|\n",
      "|1000001| P00085442|     F| 0-17|        10|            A|                         2|             0|                12|                14|                -1|    1057|     481.0|(16,[6,10,13,14],...| 1057.0|\n",
      "|1000002| P00285442|     M|  55+|        16|            C|                        4+|             0|                 8|                -1|                -1|    7969|     860.0|(16,[5,6,8,12,13,...| 7969.0|\n",
      "|1000003| P00193542|     M|26-35|        15|            A|                         3|             0|                 1|                 2|                -1|   15227|     157.0|(16,[0,6,11,13,14...|15227.0|\n",
      "|1000004| P00184942|     M|46-50|         7|            B|                         2|             1|                 1|                 8|                17|   19215|       5.0|(16,[3,6,7,10,13,...|19215.0|\n",
      "|1000004| P00346142|     M|46-50|         7|            B|                         2|             1|                 1|                15|                -1|   15854|     177.0|(16,[3,6,7,10,13,...|15854.0|\n",
      "|1000004|  P0097242|     M|46-50|         7|            B|                         2|             1|                 1|                16|                -1|   15686|      51.0|(16,[3,6,7,10,13,...|15686.0|\n",
      "|1000005| P00274942|     M|26-35|        20|            A|                         1|             1|                 8|                -1|                -1|    7871|      78.0|(16,[0,6,9,13,14,...| 7871.0|\n",
      "|1000005| P00251242|     M|26-35|        20|            A|                         1|             1|                 5|                11|                -1|    5254|      27.0|(16,[0,6,9,13,14,...| 5254.0|\n",
      "|1000005| P00014542|     M|26-35|        20|            A|                         1|             1|                 8|                -1|                -1|    3957|     128.0|(16,[0,6,9,13,14,...| 3957.0|\n",
      "|1000005| P00031342|     M|26-35|        20|            A|                         1|             1|                 8|                -1|                -1|    6073|    2318.0|(16,[0,6,9,13,14,...| 6073.0|\n",
      "|1000005| P00145042|     M|26-35|        20|            A|                         1|             1|                 1|                 2|                 5|   15665|       9.0|(16,[0,6,9,13,14,...|15665.0|\n",
      "|1000006| P00231342|     F|51-55|         9|            A|                         1|             0|                 5|                 8|                14|    5378|    1680.0|(16,[4,6,9,13,14]...| 5378.0|\n",
      "|1000006| P00190242|     F|51-55|         9|            A|                         1|             0|                 4|                 5|                -1|    2079|     927.0|(16,[4,6,9,13,14]...| 2079.0|\n",
      "|1000006|  P0096642|     F|51-55|         9|            A|                         1|             0|                 2|                 3|                 4|   13055|    1000.0|(16,[4,6,9,13,14]...|13055.0|\n",
      "|1000006| P00058442|     F|51-55|         9|            A|                         1|             0|                 5|                14|                -1|    8851|     209.0|(16,[4,6,9,13,14]...| 8851.0|\n",
      "|1000007| P00036842|     M|36-45|         1|            B|                         1|             1|                 1|                14|                16|   11788|      58.0|(16,[1,6,7,9,13,1...|11788.0|\n",
      "|1000008| P00249542|     M|26-35|        12|            C|                        4+|             1|                 1|                 5|                15|   19614|      81.0|(16,[0,6,8,12,13,...|19614.0|\n",
      "+-------+----------+------+-----+----------+-------------+--------------------------+--------------+------------------+------------------+------------------+--------+----------+--------------------+-------+\n",
      "only showing top 20 rows\n",
      "\n"
     ]
    }
   ],
   "source": [
    "train1.show()"
   ]
  },
  {
   "cell_type": "code",
   "execution_count": 18,
   "metadata": {
    "collapsed": false
   },
   "outputs": [
    {
     "name": "stdout",
     "output_type": "stream",
     "text": [
      "+--------------------+\n",
      "|            features|\n",
      "+--------------------+\n",
      "|(16,[6,10,13,14],...|\n",
      "|(16,[6,10,13,14],...|\n",
      "|(16,[6,10,13,14],...|\n",
      "|(16,[6,10,13,14],...|\n",
      "|(16,[5,6,8,12,13,...|\n",
      "|(16,[0,6,11,13,14...|\n",
      "|(16,[3,6,7,10,13,...|\n",
      "|(16,[3,6,7,10,13,...|\n",
      "|(16,[3,6,7,10,13,...|\n",
      "|(16,[0,6,9,13,14,...|\n",
      "|(16,[0,6,9,13,14,...|\n",
      "|(16,[0,6,9,13,14,...|\n",
      "|(16,[0,6,9,13,14,...|\n",
      "|(16,[0,6,9,13,14,...|\n",
      "|(16,[4,6,9,13,14]...|\n",
      "|(16,[4,6,9,13,14]...|\n",
      "|(16,[4,6,9,13,14]...|\n",
      "|(16,[4,6,9,13,14]...|\n",
      "|(16,[1,6,7,9,13,1...|\n",
      "|(16,[0,6,8,12,13,...|\n",
      "+--------------------+\n",
      "only showing top 20 rows\n",
      "\n",
      "+-------+\n",
      "|  label|\n",
      "+-------+\n",
      "| 8370.0|\n",
      "|15200.0|\n",
      "| 1422.0|\n",
      "| 1057.0|\n",
      "| 7969.0|\n",
      "|15227.0|\n",
      "|19215.0|\n",
      "|15854.0|\n",
      "|15686.0|\n",
      "| 7871.0|\n",
      "| 5254.0|\n",
      "| 3957.0|\n",
      "| 6073.0|\n",
      "|15665.0|\n",
      "| 5378.0|\n",
      "| 2079.0|\n",
      "|13055.0|\n",
      "| 8851.0|\n",
      "|11788.0|\n",
      "|19614.0|\n",
      "+-------+\n",
      "only showing top 20 rows\n",
      "\n"
     ]
    }
   ],
   "source": [
    "# Look at the 2 extra columns we created with Rformula, they are transformed to numerical \n",
    "\n",
    "train1.select('features').show()\n",
    "train1.select('label').show()"
   ]
  },
  {
   "cell_type": "code",
   "execution_count": 19,
   "metadata": {
    "collapsed": true
   },
   "outputs": [],
   "source": [
    "# ML model, random forest regressor\n",
    "\n",
    "from pyspark.ml.regression import RandomForestRegressor\n",
    "rf = RandomForestRegressor()"
   ]
  },
  {
   "cell_type": "code",
   "execution_count": 20,
   "metadata": {
    "collapsed": true
   },
   "outputs": [],
   "source": [
    "# Dividing datframe in 70% for train and 30% for test\n",
    "\n",
    "(train_cv, test_cv) = train1.randomSplit([0.7, 0.3])"
   ]
  },
  {
   "cell_type": "code",
   "execution_count": 21,
   "metadata": {
    "collapsed": true
   },
   "outputs": [],
   "source": [
    "# Build model and make predictions\n",
    "\n",
    "model1 = rf.fit(train_cv)\n",
    "predictions = model1.transform(test_cv)"
   ]
  },
  {
   "cell_type": "code",
   "execution_count": 22,
   "metadata": {
    "collapsed": false
   },
   "outputs": [
    {
     "data": {
      "text/plain": [
       "[Row(User_ID=1000001, Product_ID='P00069042', Gender='F', Age='0-17', Occupation=10, City_Category='A', Stay_In_Current_City_Years='2', Marital_Status=0, Product_Category_1=3, Product_Category_2=-1, Product_Category_3=-1, Purchase=8370, product_ID=766.0, features=SparseVector(16, {6: 10.0, 10: 1.0, 13: 3.0, 14: -1.0}), label=8370.0, prediction=8839.176689079284),\n",
       " Row(User_ID=1000001, Product_ID='P00248942', Gender='F', Age='0-17', Occupation=10, City_Category='A', Stay_In_Current_City_Years='2', Marital_Status=0, Product_Category_1=1, Product_Category_2=6, Product_Category_3=14, Purchase=15200, product_ID=183.0, features=SparseVector(16, {6: 10.0, 10: 1.0, 13: 1.0, 14: 6.0}), label=15200.0, prediction=13251.89007989439),\n",
       " Row(User_ID=1000004, Product_ID='P00184942', Gender='M', Age='46-50', Occupation=7, City_Category='B', Stay_In_Current_City_Years='2', Marital_Status=1, Product_Category_1=1, Product_Category_2=8, Product_Category_3=17, Purchase=19215, product_ID=5.0, features=SparseVector(16, {3: 1.0, 6: 7.0, 7: 1.0, 10: 1.0, 13: 1.0, 14: 8.0, 15: 1.0}), label=19215.0, prediction=13495.104907805882),\n",
       " Row(User_ID=1000005, Product_ID='P00251242', Gender='M', Age='26-35', Occupation=20, City_Category='A', Stay_In_Current_City_Years='1', Marital_Status=1, Product_Category_1=5, Product_Category_2=11, Product_Category_3=-1, Purchase=5254, product_ID=27.0, features=SparseVector(16, {0: 1.0, 6: 20.0, 9: 1.0, 13: 5.0, 14: 11.0, 15: 1.0}), label=5254.0, prediction=6501.806000631854),\n",
       " Row(User_ID=1000005, Product_ID='P00145042', Gender='M', Age='26-35', Occupation=20, City_Category='A', Stay_In_Current_City_Years='1', Marital_Status=1, Product_Category_1=1, Product_Category_2=2, Product_Category_3=5, Purchase=15665, product_ID=9.0, features=SparseVector(16, {0: 1.0, 6: 20.0, 9: 1.0, 13: 1.0, 14: 2.0, 15: 1.0}), label=15665.0, prediction=12991.618322058934)]"
      ]
     },
     "execution_count": 22,
     "metadata": {},
     "output_type": "execute_result"
    }
   ],
   "source": [
    "# Check for predictions it has prediction result for test_cv\n",
    "\n",
    "predictions.head(5)"
   ]
  },
  {
   "cell_type": "code",
   "execution_count": 23,
   "metadata": {
    "collapsed": false
   },
   "outputs": [
    {
     "data": {
      "text/plain": [
       "(3829.194166912273, 14662727.967914976)"
      ]
     },
     "execution_count": 23,
     "metadata": {},
     "output_type": "execute_result"
    }
   ],
   "source": [
    "# Evaluate model with mean squared error, 3811.4226156703771\n",
    "\n",
    "from pyspark.ml.evaluation import RegressionEvaluator\n",
    "evaluator = RegressionEvaluator()\n",
    "mse = evaluator.evaluate(predictions,{evaluator.metricName:\"mse\" })\n",
    "import numpy as np\n",
    "np.sqrt(mse), mse"
   ]
  },
  {
   "cell_type": "code",
   "execution_count": 24,
   "metadata": {
    "collapsed": true
   },
   "outputs": [],
   "source": [
    "# Now make prediction on entire training set\n",
    "\n",
    "model = rf.fit(train1)\n",
    "predictions1 = model.transform(test1)"
   ]
  },
  {
   "cell_type": "code",
   "execution_count": 25,
   "metadata": {
    "collapsed": true
   },
   "outputs": [],
   "source": [
    "# Make data frame for submission\n",
    "\n",
    "df = predictions1.selectExpr(\"User_ID as User_ID\", \"Product_ID as Product_ID\", 'prediction as Purchase')"
   ]
  },
  {
   "cell_type": "code",
   "execution_count": 26,
   "metadata": {
    "collapsed": false
   },
   "outputs": [],
   "source": [
    "# Write file \n",
    "\n",
    "df.toPandas().to_csv('submission.csv')"
   ]
  }
 ],
 "metadata": {
  "anaconda-cloud": {},
  "kernelspec": {
   "display_name": "Python [Root]",
   "language": "python",
   "name": "Python [Root]"
  },
  "language_info": {
   "codemirror_mode": {
    "name": "ipython",
    "version": 3
   },
   "file_extension": ".py",
   "mimetype": "text/x-python",
   "name": "python",
   "nbconvert_exporter": "python",
   "pygments_lexer": "ipython3",
   "version": "3.5.2"
  }
 },
 "nbformat": 4,
 "nbformat_minor": 0
}
